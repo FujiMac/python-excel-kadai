{
  "nbformat": 4,
  "nbformat_minor": 0,
  "metadata": {
    "colab": {
      "provenance": []
    },
    "kernelspec": {
      "name": "python3",
      "display_name": "Python 3"
    },
    "language_info": {
      "name": "python"
    }
  },
  "cells": [
    {
      "cell_type": "code",
      "execution_count": 25,
      "metadata": {
        "id": "P5nRooxkjKO7"
      },
      "outputs": [],
      "source": [
        "import openpyxl\n",
        "from openpyxl.styles import Border, Side\n",
        "from datetime import datetime\n",
        "\n",
        "workbook=openpyxl.Workbook()\n",
        "worksheet=workbook.active\n",
        "\n",
        "worksheet['B2']='請求書'\n",
        "\n",
        "customer=[\n",
        "    ['会社名','株式会社ABC'],\n",
        "    ['住所','〒101-0022 東京都千代田区神田練塀町300'],\n",
        "    ['連絡先','TEL:03-1234-5678 FAX:03-1234-5678'],\n",
        "    ['連絡先','担当者名:鈴木一郎 様']\n",
        "]\n",
        "\n",
        "for i,row in enumerate(customer):\n",
        "      for j, value in enumerate(row):\n",
        "          worksheet.cell(row=4 + i, column=2).value =value\n",
        "\n",
        "worksheet['F4']='No'\n",
        "worksheet['G4']='0001'\n",
        "worksheet['F5']='日付'\n",
        "\n",
        "today=datetime.today()\n",
        "worksheet['G5']=today.strftime('%Y'+'/'+'%m'+'/'+'%d')\n",
        "\n",
        "data=[\n",
        "    ['商品名','数量','単価','金額'],\n",
        "    ['商品A',2,10000,20000],\n",
        "    ['商品B',1,15000,15000]\n",
        "]\n",
        "\n",
        "for i, row in enumerate(data):\n",
        "    for j, value in enumerate(row):\n",
        "        worksheet.cell(row=10 + i, column=2 + j).value = value\n",
        "\n",
        "worksheet['B15']='合計'\n",
        "worksheet['B16']='消費税'\n",
        "worksheet['B17']='税込合計'\n",
        "\n",
        "worksheet['E13'].value=worksheet['E13'].value\n",
        "worksheet['E15'].value=worksheet['E11'].value + worksheet['E12'].value\n",
        "worksheet['E16'].value=worksheet['E15'].value*0.1\n",
        "worksheet['E17'].value=worksheet['E15'].value + worksheet['E16'].value\n",
        "\n",
        "workbook.save('請求書_20230520（現在日付）.xlsx')"
      ]
    },
    {
      "cell_type": "code",
      "source": [],
      "metadata": {
        "id": "fUwb8_8pnGfT"
      },
      "execution_count": null,
      "outputs": []
    }
  ]
}