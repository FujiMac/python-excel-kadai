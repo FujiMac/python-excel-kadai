{
  "nbformat": 4,
  "nbformat_minor": 0,
  "metadata": {
    "colab": {
      "provenance": []
    },
    "kernelspec": {
      "name": "python3",
      "display_name": "Python 3"
    },
    "language_info": {
      "name": "python"
    }
  },
  "cells": [
    {
      "cell_type": "code",
      "execution_count": 4,
      "metadata": {
        "id": "LxxWfhs5NR6J"
      },
      "outputs": [],
      "source": [
        "import openpyxl\n",
        "import pandas as pd\n",
        "from openpyxl.styles import PatternFill"
      ]
    },
    {
      "cell_type": "code",
      "source": [
        "# 処理対象のファイル名のリストを格納\n",
        "file_list = ['2022_年間売上表.xlsx', '2023_年間売上表.xlsx']\n",
        "\n",
        "# 結合後のデータを格納するための空のデータフレームを作成\n",
        "df = pd.DataFrame()\n",
        "\n",
        "# ファイルを一つずつ処理する\n",
        "for file_name in file_list:\n",
        "    # Excelファイルを読み込む\n",
        "    temp_df = pd.read_excel(file_name, header=0)\n",
        "\n",
        "    # データフレームの列名を指定\n",
        "    temp_df.columns = [ '売上年','商品', '金額']\n",
        "\n",
        "    # concat()でデータフレームを連結\n",
        "    df = pd.concat([df, temp_df], ignore_index=True)\n",
        "\n",
        "#print(df)\n",
        "result=df.groupby(['商品','売上年'],as_index=False)['金額'].sum()\n",
        "print(result)\n",
        "\n",
        "# Excelファイルを作成する\n",
        "writer = pd.ExcelWriter('売上集計表.xlsx')\n",
        "\n",
        "# DataFrameオブジェクトをExcelファイルに書き込む\n",
        "result.to_excel(writer, sheet_name='売上集計', index=False)\n",
        "\n",
        "writer.close()\n",
        "\n",
        "# Excelファイルの読み込み\n",
        "book = openpyxl.load_workbook('売上集計表.xlsx')\n",
        "\n",
        "# ワークシートの選択\n",
        "sheet = book.active\n",
        "\n",
        "# A1セルの背景色を設定\n",
        "for row in sheet['A1:C1']:\n",
        "  for cell in row:\n",
        "    cell.fill = PatternFill(patternType='solid', fgColor='F2F2F2')\n",
        "\n",
        "# Excelファイルを別名保存する\n",
        "book.save('売上集計表.xlsx')"
      ],
      "metadata": {
        "colab": {
          "base_uri": "https://localhost:8080/"
        },
        "id": "9P_R5LVJT9rV",
        "outputId": "03b17689-4ceb-49e1-e79b-d68789359bcf"
      },
      "execution_count": 23,
      "outputs": [
        {
          "output_type": "stream",
          "name": "stdout",
          "text": [
            "          商品   売上年    金額\n",
            "0   アロマキャンドル  2022  1710\n",
            "1   アロマキャンドル  2023   900\n",
            "2      コーヒー豆  2023   860\n",
            "3       セッケン  2022  1300\n",
            "4       セッケン  2023  1300\n",
            "5       ハチミツ  2022  1860\n",
            "6       ハチミツ  2023  1000\n",
            "7      フライパン  2023   670\n",
            "8     ワイングラス  2022   850\n",
            "9     ワイングラス  2023   850\n",
            "10        包丁  2022   940\n",
            "11        包丁  2023   940\n",
            "12        水筒  2022  1150\n",
            "13        水筒  2023  1400\n",
            "14        紅茶  2022  2000\n",
            "15        紅茶  2023  1870\n"
          ]
        }
      ]
    },
    {
      "cell_type": "code",
      "source": [],
      "metadata": {
        "id": "YpzUmpTZVurs"
      },
      "execution_count": null,
      "outputs": []
    }
  ]
}